{
 "cells": [
  {
   "cell_type": "markdown",
   "metadata": {},
   "source": [
    "# Hand-on Exercise\n",
    "\n",
    "As an exercise, we are going to try to determine the amount of money in the following image:\n",
    "\n",
    "<img src='sample-images/quarters_dimes_pennies.png'>\n",
    "\n",
    "I took this picture with my phone, and it contains only quarters, dimes and pennies (no nickels). I've broken down the analysis into a step-by-step procedure. Most of the steps can be completed with the functions that I introduced in the lecture. However, in step 6, you will have to look up the documentation for the relevent functions to learn how to use them.  \n",
    "\n",
    "**Step 1: Reading & displaying the image.** Use matplotlib to read the file \"`sample-images/quarters_dimes_pennies.png`\". Convert it to grayscale and display both the original and grayscle images."
   ]
  },
  {
   "cell_type": "code",
   "execution_count": null,
   "metadata": {
    "collapsed": false
   },
   "outputs": [],
   "source": [
    "import matplotlib.pyplot as plt\n",
    "from skimage.color import rgb2gray\n",
    "%matplotlib inline\n",
    "\n",
    "# use plt.imread and plt.imshow\n",
    "# remember to use plt.figure() to create a second figure for the grayscale image"
   ]
  },
  {
   "cell_type": "markdown",
   "metadata": {},
   "source": [
    "The coins are much brighter than the background, so it should be straightforward to create a mask for the coins. \n",
    "\n",
    "**Step 2: Thresholding.** Create a binary mask by thresholding the grayscale image. You can use a histogram and some guesswork to determine the threshold or use one of the threshold functions in `skimage.filters`."
   ]
  },
  {
   "cell_type": "code",
   "execution_count": null,
   "metadata": {
    "collapsed": false
   },
   "outputs": [],
   "source": [
    "from skimage.filters import threshold_li\n",
    "\n",
    "# skimage.filters.threshold_li works well (otsu does not work well in this case)\n",
    "# a good threshold is about 0.3"
   ]
  },
  {
   "cell_type": "markdown",
   "metadata": {},
   "source": [
    "**Step 3: Cleaning up the mask.** Your mask will inevitably have some noise. Use morphology operators to clean up the mask. It doesn't have to be 100% perfect, but you should be able to get rid of the specks."
   ]
  },
  {
   "cell_type": "code",
   "execution_count": null,
   "metadata": {
    "collapsed": false
   },
   "outputs": [],
   "source": [
    "from skimage import morphology\n",
    "from skimage.morphology import disk\n",
    "\n",
    "# morphology.remove_small_objects can be applied to the image and to its inverse"
   ]
  },
  {
   "cell_type": "markdown",
   "metadata": {},
   "source": [
    "**Step 4: Masking.** It will be convenient to set the background to black. Use the coin mask that you created to set the backgrounds of both the original color image, and the grayscale image to zero. \n",
    "\n",
    "You should be able to see the coins in color, but the counter (and the reflections in the counter) should be black. While you're at it, set the background of the grayscale image to zero as well. From now on, we don't have to worry about the background affecting our results because we've masked it out."
   ]
  },
  {
   "cell_type": "code",
   "execution_count": null,
   "metadata": {
    "collapsed": false
   },
   "outputs": [],
   "source": [
    "\n",
    "# from step 3, you have a good mask. use it to directly index the image arrays"
   ]
  },
  {
   "cell_type": "markdown",
   "metadata": {},
   "source": [
    "Now that we've segmented the foreground from the background, we want to distinguish the coins from each other. \n",
    "\n",
    "**Step 5: Watershed Segmentation** Use the watershed-based segmentation that was introduced in the cell counting demo to create a label image for the coins. Print the number of coins in the image. "
   ]
  },
  {
   "cell_type": "code",
   "execution_count": null,
   "metadata": {
    "collapsed": false
   },
   "outputs": [],
   "source": [
    "from scipy import ndimage as ndi\n",
    "from skimage import measure\n",
    "import numpy as np\n",
    "\n",
    "# this function is identical to the watershed algorithm demonstrated in the lecture\n",
    "\n",
    "def watershed_segmentation(mask):\n",
    "    \"\"\"Perform a distance transform & watershed-based segmentation, return label image.\"\"\"\n",
    "    distance_im = ndi.distance_transform_edt(~mask)\n",
    "    peaks_im = feature.peak_local_max(distance_im, indices=False)\n",
    "    markers_im = measure.label(peaks_im)\n",
    "    labelled_im = morphology.watershed(-distance_im, markers_im, mask=~coin_mask_clean)\n",
    "    return labelled_im\n"
   ]
  },
  {
   "cell_type": "markdown",
   "metadata": {},
   "source": [
    "**Step 6: Quantifying & displaying the object sizes.** Look up the documentation for scikit-image function `regionprops` online. Use this function with the labelled coins image to compute the area of each coin and the location of each coin's center (the center is called the \"centroid\"). Display the image and use matplotlib's `text` function to write the area of each coin at its center."
   ]
  },
  {
   "cell_type": "code",
   "execution_count": null,
   "metadata": {
    "collapsed": false
   },
   "outputs": [],
   "source": [
    "# measure.regionprops returns a list of region objects. you can get a region's area with region.area, \n",
    "# you can get its center with region.centroid"
   ]
  },
  {
   "cell_type": "markdown",
   "metadata": {},
   "source": [
    "**Step 7: Separate coins by size & count.** It is possible to sort the coins on the basis of size. By trial and error, select size thresholds that can use a region's area to determine the coin's denomination. Count the number of each denomination, and print the total value of the coins in the image."
   ]
  },
  {
   "cell_type": "code",
   "execution_count": null,
   "metadata": {
    "collapsed": false,
    "scrolled": true
   },
   "outputs": [],
   "source": [
    "\n",
    "# The following thresholds worked well for me:\n",
    "# max_dime_area = 2300\n",
    "# min_quarter_area = 3800\n",
    "\n",
    "# loop over the regions returned by the regionprop function, \n",
    "# and use these area thresholds to count up the denominations."
   ]
  }
 ],
 "metadata": {
  "kernelspec": {
   "display_name": "Python 2",
   "language": "python",
   "name": "python2"
  },
  "language_info": {
   "codemirror_mode": {
    "name": "ipython",
    "version": 2
   },
   "file_extension": ".py",
   "mimetype": "text/x-python",
   "name": "python",
   "nbconvert_exporter": "python",
   "pygments_lexer": "ipython2",
   "version": "2.7.6"
  }
 },
 "nbformat": 4,
 "nbformat_minor": 0
}
